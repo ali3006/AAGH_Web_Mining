{
  "nbformat": 4,
  "nbformat_minor": 0,
  "metadata": {
    "kernelspec": {
      "language": "python",
      "display_name": "Python 3",
      "name": "python3"
    },
    "language_info": {
      "pygments_lexer": "ipython3",
      "nbconvert_exporter": "python",
      "version": "3.6.4",
      "file_extension": ".py",
      "codemirror_mode": {
        "name": "ipython",
        "version": 3
      },
      "name": "python",
      "mimetype": "text/x-python"
    },
    "colab": {
      "name": "tweet-8.ipynb",
      "provenance": [],
      "collapsed_sections": [],
      "include_colab_link": true
    }
  },
  "cells": [
    {
      "cell_type": "markdown",
      "metadata": {
        "id": "view-in-github",
        "colab_type": "text"
      },
      "source": [
        "<a href=\"https://colab.research.google.com/github/ali3006/AAGH_Web_Mining/blob/main/AAGH_Web_Mining.ipynb\" target=\"_parent\"><img src=\"https://colab.research.google.com/assets/colab-badge.svg\" alt=\"Open In Colab\"/></a>"
      ]
    },
    {
      "cell_type": "markdown",
      "metadata": {
        "id": "Cbu3ugQb57cA"
      },
      "source": [
        "# Import Libraries"
      ]
    },
    {
      "cell_type": "code",
      "metadata": {
        "colab": {
          "base_uri": "https://localhost:8080/"
        },
        "id": "hyyQJn6S6s7u",
        "outputId": "02b4bf94-4041-461c-8809-ac7db73a14a9"
      },
      "source": [
        "!pip install nltk\n",
        "!pip install stopwords\n"
      ],
      "execution_count": 105,
      "outputs": [
        {
          "output_type": "stream",
          "text": [
            "Requirement already satisfied: nltk in /usr/local/lib/python3.7/dist-packages (3.2.5)\n",
            "Requirement already satisfied: six in /usr/local/lib/python3.7/dist-packages (from nltk) (1.15.0)\n",
            "Requirement already satisfied: stopwords in /usr/local/lib/python3.7/dist-packages (1.0.0)\n"
          ],
          "name": "stdout"
        }
      ]
    },
    {
      "cell_type": "code",
      "metadata": {
        "execution": {
          "iopub.status.busy": "2021-05-29T13:11:38.390067Z",
          "iopub.execute_input": "2021-05-29T13:11:38.390465Z",
          "iopub.status.idle": "2021-05-29T13:11:46.131257Z",
          "shell.execute_reply.started": "2021-05-29T13:11:38.390381Z",
          "shell.execute_reply": "2021-05-29T13:11:46.130057Z"
        },
        "trusted": true,
        "colab": {
          "base_uri": "https://localhost:8080/"
        },
        "id": "6H5DY-J257cF",
        "outputId": "2c45815d-980c-49e3-e7bc-6494b779a2fe"
      },
      "source": [
        "import pandas as pd\n",
        "import numpy as np\n",
        "import random\n",
        "import warnings\n",
        "import time\n",
        "import datetime\n",
        "import re\n",
        "import string\n",
        "import itertools\n",
        "import pickle\n",
        "import joblib\n",
        "import nltk\n",
        "import csv\n",
        "nltk.download('stopwords')\n",
        "nltk.download('punkt')\n",
        "nltk.download('averaged_perceptron_tagger')\n",
        "nltk.download('wordnet')\n",
        "from nltk.corpus import stopwords, wordnet\n",
        "stop = set(stopwords.words('english'))\n",
        "from wordcloud import WordCloud, STOPWORDS\n",
        "from nltk.stem import WordNetLemmatizer\n",
        "from nltk.tokenize import word_tokenize\n",
        "from nltk.probability import FreqDist\n",
        "from collections import Counter, defaultdict\n",
        "\n",
        "import tensorflow as tf\n",
        "import keras\n",
        "import keras.backend as K\n",
        "from keras.preprocessing.text import Tokenizer\n",
        "from keras.preprocessing.sequence import pad_sequences\n",
        "from keras.layers import Input, Concatenate, Conv2D, Flatten, Dense, Embedding, LSTM\n",
        "from keras.models import Model\n",
        "from keras.utils import np_utils\n",
        "\n",
        "from sklearn.model_selection import train_test_split\n",
        "from sklearn.metrics import roc_auc_score\n",
        "\n",
        "from keras.regularizers import l2\n",
        "from keras.models import Sequential\n",
        "from keras.optimizers import Adam\n",
        "from keras.layers import Conv2D, ZeroPadding2D, Activation, Input, concatenate\n",
        "from keras.models import Model\n",
        "from keras.layers.normalization import BatchNormalization\n",
        "from keras.layers.pooling import MaxPooling2D\n",
        "from keras.layers.merge import Concatenate\n",
        "from keras.layers.core import Lambda, Flatten, Dense\n",
        "from keras.initializers import glorot_uniform\n",
        "from keras.layers import Input, Dense, Flatten, GlobalMaxPool2D, GlobalAvgPool2D, Concatenate, Multiply, Dropout, Subtract, Add, Conv2D\n",
        "\n",
        "from sklearn.manifold import TSNE\n",
        "import matplotlib.pyplot as plt\n",
        "import seaborn as sns\n",
        "%matplotlib inline\n",
        "\n",
        "import warnings\n",
        "warnings.filterwarnings('ignore')"
      ],
      "execution_count": 106,
      "outputs": [
        {
          "output_type": "stream",
          "text": [
            "[nltk_data] Downloading package stopwords to /root/nltk_data...\n",
            "[nltk_data]   Package stopwords is already up-to-date!\n",
            "[nltk_data] Downloading package punkt to /root/nltk_data...\n",
            "[nltk_data]   Package punkt is already up-to-date!\n",
            "[nltk_data] Downloading package averaged_perceptron_tagger to\n",
            "[nltk_data]     /root/nltk_data...\n",
            "[nltk_data]   Package averaged_perceptron_tagger is already up-to-\n",
            "[nltk_data]       date!\n",
            "[nltk_data] Downloading package wordnet to /root/nltk_data...\n",
            "[nltk_data]   Package wordnet is already up-to-date!\n"
          ],
          "name": "stdout"
        }
      ]
    },
    {
      "cell_type": "markdown",
      "metadata": {
        "id": "QLlCFs9b57cG"
      },
      "source": [
        "# Data Loading"
      ]
    },
    {
      "cell_type": "code",
      "metadata": {
        "id": "5BlS2QUJfEJr",
        "execution": {
          "iopub.status.busy": "2021-05-29T13:12:06.696492Z",
          "iopub.execute_input": "2021-05-29T13:12:06.697212Z",
          "iopub.status.idle": "2021-05-29T13:12:06.782464Z",
          "shell.execute_reply.started": "2021-05-29T13:12:06.697154Z",
          "shell.execute_reply": "2021-05-29T13:12:06.781315Z"
        },
        "trusted": true,
        "colab": {
          "base_uri": "https://localhost:8080/",
          "height": 200
        },
        "outputId": "1f5b36c7-6a88-4069-f234-4b2bf8e06c14"
      },
      "source": [
        "df = pd.read_csv('../content/train.csv')\n",
        "df.drop(['keyword', 'location', 'id'], axis=1, inplace=True)\n",
        "display(df.sample(5))"
      ],
      "execution_count": 107,
      "outputs": [
        {
          "output_type": "display_data",
          "data": {
            "text/html": [
              "<div>\n",
              "<style scoped>\n",
              "    .dataframe tbody tr th:only-of-type {\n",
              "        vertical-align: middle;\n",
              "    }\n",
              "\n",
              "    .dataframe tbody tr th {\n",
              "        vertical-align: top;\n",
              "    }\n",
              "\n",
              "    .dataframe thead th {\n",
              "        text-align: right;\n",
              "    }\n",
              "</style>\n",
              "<table border=\"1\" class=\"dataframe\">\n",
              "  <thead>\n",
              "    <tr style=\"text-align: right;\">\n",
              "      <th></th>\n",
              "      <th>text</th>\n",
              "      <th>target</th>\n",
              "    </tr>\n",
              "  </thead>\n",
              "  <tbody>\n",
              "    <tr>\n",
              "      <th>6736</th>\n",
              "      <td>9:35 pm. Thunderstorm. No rain. 90 degrees. Th...</td>\n",
              "      <td>1</td>\n",
              "    </tr>\n",
              "    <tr>\n",
              "      <th>3865</th>\n",
              "      <td>@AWickedAssassin want to burst into flames! *A...</td>\n",
              "      <td>0</td>\n",
              "    </tr>\n",
              "    <tr>\n",
              "      <th>6221</th>\n",
              "      <td>I get to smoke my shit in peace</td>\n",
              "      <td>1</td>\n",
              "    </tr>\n",
              "    <tr>\n",
              "      <th>2180</th>\n",
              "      <td>Malaysia seem more certain than France.\\n\\nPla...</td>\n",
              "      <td>1</td>\n",
              "    </tr>\n",
              "    <tr>\n",
              "      <th>2429</th>\n",
              "      <td>@Joelsherman1 DW was on his way to a better ca...</td>\n",
              "      <td>0</td>\n",
              "    </tr>\n",
              "  </tbody>\n",
              "</table>\n",
              "</div>"
            ],
            "text/plain": [
              "                                                   text  target\n",
              "6736  9:35 pm. Thunderstorm. No rain. 90 degrees. Th...       1\n",
              "3865  @AWickedAssassin want to burst into flames! *A...       0\n",
              "6221                    I get to smoke my shit in peace       1\n",
              "2180  Malaysia seem more certain than France.\\n\\nPla...       1\n",
              "2429  @Joelsherman1 DW was on his way to a better ca...       0"
            ]
          },
          "metadata": {
            "tags": []
          }
        }
      ]
    },
    {
      "cell_type": "code",
      "metadata": {
        "id": "immmR1yYfEJs",
        "execution": {
          "iopub.status.busy": "2021-05-29T13:12:21.14212Z",
          "iopub.execute_input": "2021-05-29T13:12:21.142456Z",
          "iopub.status.idle": "2021-05-29T13:12:21.148816Z",
          "shell.execute_reply.started": "2021-05-29T13:12:21.142426Z",
          "shell.execute_reply": "2021-05-29T13:12:21.147943Z"
        },
        "trusted": true,
        "colab": {
          "base_uri": "https://localhost:8080/"
        },
        "outputId": "ff6c03ed-6303-4241-fd9d-43458daf71c4"
      },
      "source": [
        "df.shape"
      ],
      "execution_count": 108,
      "outputs": [
        {
          "output_type": "execute_result",
          "data": {
            "text/plain": [
              "(7613, 2)"
            ]
          },
          "metadata": {
            "tags": []
          },
          "execution_count": 108
        }
      ]
    },
    {
      "cell_type": "code",
      "metadata": {
        "id": "fbSWwM-mfEJs",
        "execution": {
          "iopub.status.busy": "2021-05-29T13:12:21.47139Z",
          "iopub.execute_input": "2021-05-29T13:12:21.471981Z",
          "iopub.status.idle": "2021-05-29T13:12:21.482917Z",
          "shell.execute_reply.started": "2021-05-29T13:12:21.471925Z",
          "shell.execute_reply": "2021-05-29T13:12:21.482065Z"
        },
        "trusted": true,
        "colab": {
          "base_uri": "https://localhost:8080/"
        },
        "outputId": "a8fe2047-f4cf-4161-80d3-a6ba45848b10"
      },
      "source": [
        "df['target'].value_counts()"
      ],
      "execution_count": 109,
      "outputs": [
        {
          "output_type": "execute_result",
          "data": {
            "text/plain": [
              "0    4342\n",
              "1    3271\n",
              "Name: target, dtype: int64"
            ]
          },
          "metadata": {
            "tags": []
          },
          "execution_count": 109
        }
      ]
    },
    {
      "cell_type": "markdown",
      "metadata": {
        "id": "GwGBCrznfEJs"
      },
      "source": [
        "# Data Cleaning"
      ]
    },
    {
      "cell_type": "code",
      "metadata": {
        "id": "poC0Gk90fEJt",
        "execution": {
          "iopub.status.busy": "2021-05-29T13:12:28.130414Z",
          "iopub.execute_input": "2021-05-29T13:12:28.13097Z",
          "iopub.status.idle": "2021-05-29T13:12:39.702423Z",
          "shell.execute_reply.started": "2021-05-29T13:12:28.130935Z",
          "shell.execute_reply": "2021-05-29T13:12:39.701605Z"
        },
        "trusted": true
      },
      "source": [
        "def remove_url(text):\n",
        "    url = re.compile(r'https?://\\S+|www\\.\\S+')\n",
        "    return url.sub(r'', text)\n",
        "\n",
        "def remove_emoji(text):\n",
        "    emoji_pattern = re.compile(\n",
        "        '['\n",
        "        u'\\U0001F600-\\U0001F64F'  # emoticons\n",
        "        u'\\U0001F300-\\U0001F5FF'  # symbols & pictographs\n",
        "        u'\\U0001F680-\\U0001F6FF'  # transport & map symbols\n",
        "        u'\\U0001F1E0-\\U0001F1FF'  # flags (iOS)\n",
        "        u'\\U00002702-\\U000027B0'\n",
        "        u'\\U000024C2-\\U0001F251'\n",
        "        ']+',\n",
        "        flags=re.UNICODE)\n",
        "    return emoji_pattern.sub(r'', text)\n",
        "\n",
        "def remove_html(text):\n",
        "    html = re.compile(r'<.*?>|&([a-z0-9]+|#[0-9]{1,6}|#x[0-9a-f]{1,6});')\n",
        "    return re.sub(html, '', text)\n",
        "\n",
        "def remove_punct(text):\n",
        "    table = str.maketrans('', '', string.punctuation)\n",
        "    return text.translate(table)\n",
        "\n",
        "df['clean_text'] = df['text'].apply(lambda x: remove_url(str(x)))\n",
        "df['clean_text'] = df['clean_text'].apply(lambda x: remove_emoji(str(x)))\n",
        "df['clean_text'] = df['clean_text'].apply(lambda x: remove_html(str(x)))\n",
        "df['clean_text'] = df['clean_text'].apply(lambda x: remove_punct(str(x)))\n",
        "df['clean_text'] = df['clean_text'].apply(word_tokenize)\n",
        "df['clean_text'] = df['clean_text'].apply(lambda x: [word.lower() for word in x])\n",
        "df['clean_text'] = df['clean_text'].apply(lambda x: [word for word in x if word not in stop])\n",
        "df['clean_text'] = df['clean_text'].apply(nltk.tag.pos_tag)\n",
        "\n",
        "def get_wordnet_pos(tag):\n",
        "    if tag.startswith('J'):\n",
        "        return wordnet.ADJ\n",
        "    elif tag.startswith('V'):\n",
        "        return wordnet.VERB\n",
        "    elif tag.startswith('N'):\n",
        "        return wordnet.NOUN\n",
        "    elif tag.startswith('R'):\n",
        "        return wordnet.ADV\n",
        "    else:\n",
        "        return wordnet.NOUN\n",
        "    \n",
        "df['clean_text'] = df['clean_text'].apply(\n",
        "    lambda x: [(word, get_wordnet_pos(pos_tag)) for (word, pos_tag) in x])\n",
        "wnl = WordNetLemmatizer()\n",
        "df['clean_text'] = df['clean_text'].apply(\n",
        "    lambda x: [wnl.lemmatize(word, tag) for word, tag in x])\n",
        "df['clean_text'] = df['clean_text'].apply(\n",
        "    lambda x: [word for word in x if word not in stop])\n",
        "df['clean_text'] = [' '.join(map(str, l)) for l in df['clean_text']]"
      ],
      "execution_count": 110,
      "outputs": []
    },
    {
      "cell_type": "code",
      "metadata": {
        "id": "qVQaKcaIfEJt",
        "execution": {
          "iopub.status.busy": "2021-05-29T13:12:45.605091Z",
          "iopub.execute_input": "2021-05-29T13:12:45.605614Z",
          "iopub.status.idle": "2021-05-29T13:12:45.618168Z",
          "shell.execute_reply.started": "2021-05-29T13:12:45.605579Z",
          "shell.execute_reply": "2021-05-29T13:12:45.616774Z"
        },
        "trusted": true,
        "colab": {
          "base_uri": "https://localhost:8080/",
          "height": 108
        },
        "outputId": "ea4754b2-1370-4669-a6a6-8d3c8b4bd559"
      },
      "source": [
        "display(df.sample(2))"
      ],
      "execution_count": 111,
      "outputs": [
        {
          "output_type": "display_data",
          "data": {
            "text/html": [
              "<div>\n",
              "<style scoped>\n",
              "    .dataframe tbody tr th:only-of-type {\n",
              "        vertical-align: middle;\n",
              "    }\n",
              "\n",
              "    .dataframe tbody tr th {\n",
              "        vertical-align: top;\n",
              "    }\n",
              "\n",
              "    .dataframe thead th {\n",
              "        text-align: right;\n",
              "    }\n",
              "</style>\n",
              "<table border=\"1\" class=\"dataframe\">\n",
              "  <thead>\n",
              "    <tr style=\"text-align: right;\">\n",
              "      <th></th>\n",
              "      <th>text</th>\n",
              "      <th>target</th>\n",
              "      <th>clean_text</th>\n",
              "    </tr>\n",
              "  </thead>\n",
              "  <tbody>\n",
              "    <tr>\n",
              "      <th>4157</th>\n",
              "      <td>@lauren_miller_7 she won't harm you</td>\n",
              "      <td>0</td>\n",
              "      <td>laurenmiller7 wont harm</td>\n",
              "    </tr>\n",
              "    <tr>\n",
              "      <th>6263</th>\n",
              "      <td>New on Ebay UK Star Wars Storm Trooper Pop! Vi...</td>\n",
              "      <td>0</td>\n",
              "      <td>new ebay uk star war storm trooper pop vinyl b...</td>\n",
              "    </tr>\n",
              "  </tbody>\n",
              "</table>\n",
              "</div>"
            ],
            "text/plain": [
              "                                                   text  ...                                         clean_text\n",
              "4157                @lauren_miller_7 she won't harm you  ...                            laurenmiller7 wont harm\n",
              "6263  New on Ebay UK Star Wars Storm Trooper Pop! Vi...  ...  new ebay uk star war storm trooper pop vinyl b...\n",
              "\n",
              "[2 rows x 3 columns]"
            ]
          },
          "metadata": {
            "tags": []
          }
        }
      ]
    },
    {
      "cell_type": "markdown",
      "metadata": {
        "id": "y2BrGGbS57cL"
      },
      "source": [
        "# Contrastive Loss"
      ]
    },
    {
      "cell_type": "markdown",
      "metadata": {
        "id": "iKGdiLxJ57cL"
      },
      "source": [
        "## Data Preparation"
      ]
    },
    {
      "cell_type": "code",
      "metadata": {
        "id": "Q0AAOGbY57cM"
      },
      "source": [
        "disaster_initial = list(df[df['target'] == 1]['clean_text'])\n",
        "non_disaster_initial = list(df[df['target'] == 0]['clean_text'])\n",
        "\n",
        "# Selecting only 1000 samples for siamese model\n",
        "disaster = disaster_initial[:1000]\n",
        "non_disaster = non_disaster_initial[:1000]\n",
        "\n",
        "# Creating pairs of data for siamese training => label 1 if pairs from same class otherwise 0\n",
        "df2 = pd.DataFrame(columns=['text1', 'text2', 'label'])\n",
        "\n",
        "for data in disaster:\n",
        "  data1 = data\n",
        "  data2 = random.choice(disaster)\n",
        "  data3 = random.choice(non_disaster)\n",
        "\n",
        "  df2.loc[len(df2)] = [data1, data2, 1]\n",
        "  df2.loc[len(df2)] = [data1, data3, 0]\n",
        "\n",
        "\n",
        "for data in non_disaster:\n",
        "  data1 = data\n",
        "  data2 = random.choice(non_disaster)\n",
        "  data3 = random.choice(disaster)\n",
        "  \n",
        "  df2.loc[len(df2)] = [data1, data2, 1]\n",
        "  df2.loc[len(df2)] = [data1, data3, 0]"
      ],
      "execution_count": 112,
      "outputs": []
    },
    {
      "cell_type": "code",
      "metadata": {
        "colab": {
          "base_uri": "https://localhost:8080/"
        },
        "id": "mHJ8sKQB57cN",
        "outputId": "b7a20fb3-69a6-491e-ba34-06a81680d5e9"
      },
      "source": [
        "df2.shape"
      ],
      "execution_count": 113,
      "outputs": [
        {
          "output_type": "execute_result",
          "data": {
            "text/plain": [
              "(4000, 3)"
            ]
          },
          "metadata": {
            "tags": []
          },
          "execution_count": 113
        }
      ]
    },
    {
      "cell_type": "code",
      "metadata": {
        "colab": {
          "base_uri": "https://localhost:8080/",
          "height": 200
        },
        "id": "gH6VzXQZ57cN",
        "outputId": "5f612cd6-0eae-4a34-aaa3-56d63aa6b24c"
      },
      "source": [
        "display(df2.sample(5))"
      ],
      "execution_count": 114,
      "outputs": [
        {
          "output_type": "display_data",
          "data": {
            "text/html": [
              "<div>\n",
              "<style scoped>\n",
              "    .dataframe tbody tr th:only-of-type {\n",
              "        vertical-align: middle;\n",
              "    }\n",
              "\n",
              "    .dataframe tbody tr th {\n",
              "        vertical-align: top;\n",
              "    }\n",
              "\n",
              "    .dataframe thead th {\n",
              "        text-align: right;\n",
              "    }\n",
              "</style>\n",
              "<table border=\"1\" class=\"dataframe\">\n",
              "  <thead>\n",
              "    <tr style=\"text-align: right;\">\n",
              "      <th></th>\n",
              "      <th>text1</th>\n",
              "      <th>text2</th>\n",
              "      <th>label</th>\n",
              "    </tr>\n",
              "  </thead>\n",
              "  <tbody>\n",
              "    <tr>\n",
              "      <th>2860</th>\n",
              "      <td>blaze elwoods blazingelwoods dont bother dougs...</td>\n",
              "      <td>ronda rousey would close make floyd mayweather...</td>\n",
              "      <td>1</td>\n",
              "    </tr>\n",
              "    <tr>\n",
              "      <th>2280</th>\n",
              "      <td>annihilation jeb christie kasich le 24 hour aw...</td>\n",
              "      <td>aftershock</td>\n",
              "      <td>1</td>\n",
              "    </tr>\n",
              "    <tr>\n",
              "      <th>1870</th>\n",
              "      <td>news madhya pradesh train derailment village y...</td>\n",
              "      <td>north sac elkhorn blvd walerga rd trfc collisi...</td>\n",
              "      <td>1</td>\n",
              "    </tr>\n",
              "    <tr>\n",
              "      <th>2730</th>\n",
              "      <td>prepare u hhs select 9 regional special pathog...</td>\n",
              "      <td>im battle monster im pull burning building say...</td>\n",
              "      <td>1</td>\n",
              "    </tr>\n",
              "    <tr>\n",
              "      <th>3618</th>\n",
              "      <td>change state fire code prohibit grill deck con...</td>\n",
              "      <td>hey look kashs foundation live today get blown...</td>\n",
              "      <td>1</td>\n",
              "    </tr>\n",
              "  </tbody>\n",
              "</table>\n",
              "</div>"
            ],
            "text/plain": [
              "                                                  text1  ... label\n",
              "2860  blaze elwoods blazingelwoods dont bother dougs...  ...     1\n",
              "2280  annihilation jeb christie kasich le 24 hour aw...  ...     1\n",
              "1870  news madhya pradesh train derailment village y...  ...     1\n",
              "2730  prepare u hhs select 9 regional special pathog...  ...     1\n",
              "3618  change state fire code prohibit grill deck con...  ...     1\n",
              "\n",
              "[5 rows x 3 columns]"
            ]
          },
          "metadata": {
            "tags": []
          }
        }
      ]
    },
    {
      "cell_type": "markdown",
      "metadata": {
        "id": "FnuYNqNf57cO"
      },
      "source": [
        "## Data Split"
      ]
    },
    {
      "cell_type": "code",
      "metadata": {
        "colab": {
          "base_uri": "https://localhost:8080/"
        },
        "id": "xlvr8TgG57cO",
        "outputId": "7fb5961d-73b8-4d62-fdec-22e1400189ea"
      },
      "source": [
        "X_train, X_val, y_train, y_val = train_test_split(df2[['text1', 'text2']], df2['label'], test_size=0.2, random_state=0)\n",
        "print(X_train.shape, X_val.shape, y_train.shape, y_val.shape)"
      ],
      "execution_count": 115,
      "outputs": [
        {
          "output_type": "stream",
          "text": [
            "(3200, 2) (800, 2) (3200,) (800,)\n"
          ],
          "name": "stdout"
        }
      ]
    },
    {
      "cell_type": "code",
      "metadata": {
        "id": "RcgXcN8557cO"
      },
      "source": [
        "X_train['text'] = X_train[['text1', 'text2']].apply(lambda x: str(x[0])+\" \"+str(x[1]), axis=1)"
      ],
      "execution_count": 116,
      "outputs": []
    },
    {
      "cell_type": "markdown",
      "metadata": {
        "id": "9_h4pcuz57cO"
      },
      "source": [
        "## Glove Embeddings"
      ]
    },
    {
      "cell_type": "code",
      "metadata": {
        "id": "nmMYsN9L57cP"
      },
      "source": [
        "t = Tokenizer()\n",
        "t.fit_on_texts(X_train['text'].values)\n",
        "\n",
        "X_train['text1'] = X_train['text1'].astype(str)\n",
        "X_train['text2'] = X_train['text2'].astype(str)\n",
        "X_val['text1'] = X_val['text1'].astype(str)\n",
        "X_val['text2'] = X_val['text2'].astype(str)\n",
        "\n",
        "train_q1_seq = t.texts_to_sequences(X_train['text1'].values)\n",
        "train_q2_seq = t.texts_to_sequences(X_train['text2'].values)\n",
        "val_q1_seq = t.texts_to_sequences(X_val['text1'].values)\n",
        "val_q2_seq = t.texts_to_sequences(X_val['text2'].values)\n",
        "\n",
        "max_len = 200\n",
        "train_q1_seq = pad_sequences(train_q1_seq, maxlen=max_len, padding='post')\n",
        "train_q2_seq = pad_sequences(train_q2_seq, maxlen=max_len, padding='post')\n",
        "val_q1_seq = pad_sequences(val_q1_seq, maxlen=max_len, padding='post')\n",
        "val_q2_seq = pad_sequences(val_q2_seq, maxlen=max_len, padding='post')"
      ],
      "execution_count": 117,
      "outputs": []
    },
    {
      "cell_type": "code",
      "metadata": {
        "colab": {
          "base_uri": "https://localhost:8080/"
        },
        "id": "OjTza8Qr57cP",
        "outputId": "0fff94b3-f046-4be2-a67d-c5de42d699f9"
      },
      "source": [
        "#https://blog.keras.io/using-pre-trained-word-embeddings-in-a-keras-model.html\n",
        "embeddings_index = {}\n",
        "f = open('../content/glove.6B.300d.txt')\n",
        "for line in f:\n",
        "    values = line.split()\n",
        "    word = values[0]\n",
        "    coefs = np.asarray(values[1:], dtype='float32')\n",
        "    embeddings_index[word] = coefs\n",
        "f.close()\n",
        "\n",
        "print('Found %s word vectors.' % len(embeddings_index))"
      ],
      "execution_count": 118,
      "outputs": [
        {
          "output_type": "stream",
          "text": [
            "Found 26288 word vectors.\n"
          ],
          "name": "stdout"
        }
      ]
    },
    {
      "cell_type": "code",
      "metadata": {
        "colab": {
          "base_uri": "https://localhost:8080/"
        },
        "id": "qhMVkmgO57cQ",
        "outputId": "852d1b34-98bd-42c6-dba6-d83ce95318f1"
      },
      "source": [
        "not_present_list = []\n",
        "vocab_size = len(t.word_index) + 1\n",
        "print('Loaded %s word vectors.' % len(embeddings_index))\n",
        "embedding_matrix = np.zeros((vocab_size, len(embeddings_index['no'])))\n",
        "for word, i in t.word_index.items():\n",
        "    if word in embeddings_index.keys():\n",
        "        embedding_vector = embeddings_index.get(word)\n",
        "    else:\n",
        "        not_present_list.append(word)\n",
        "    if embedding_vector is not None:\n",
        "        embedding_matrix[i] = embedding_vector\n",
        "    else:\n",
        "        embedding_matrix[i] = np.zeros(300)"
      ],
      "execution_count": 119,
      "outputs": [
        {
          "output_type": "stream",
          "text": [
            "Loaded 26288 word vectors.\n"
          ],
          "name": "stdout"
        }
      ]
    },
    {
      "cell_type": "code",
      "metadata": {
        "colab": {
          "base_uri": "https://localhost:8080/"
        },
        "id": "oNGO6-C057cQ",
        "outputId": "ffd91007-b3b1-4cad-f1a0-d7d6cafeb100"
      },
      "source": [
        "print(embedding_matrix.shape)"
      ],
      "execution_count": 120,
      "outputs": [
        {
          "output_type": "stream",
          "text": [
            "(6137, 300)\n"
          ],
          "name": "stdout"
        }
      ]
    },
    {
      "cell_type": "markdown",
      "metadata": {
        "id": "kH9Oxv2157cR"
      },
      "source": [
        "## Siamese Model"
      ]
    },
    {
      "cell_type": "code",
      "metadata": {
        "id": "VwBXu9Av57cR"
      },
      "source": [
        "def euclidean_distance(vectors):\n",
        "    # unpack the vectors into separate lists\n",
        "    (featsA, featsB) = vectors\n",
        "    # compute the sum of squared distances between the vectors\n",
        "    sumSquared = K.sum(K.square(featsA - featsB), axis=1, keepdims=True)\n",
        "    # return the euclidean distance between the vectors\n",
        "    return K.sqrt(K.maximum(sumSquared, K.epsilon()))\n",
        "\n",
        "def contrastive_loss(y, preds, margin=1):\n",
        "    # explicitly cast the true class label data type to the predicted\n",
        "    # class label data type (otherwise we run the risk of having two\n",
        "    # separate data types, causing TensorFlow to error out)\n",
        "    y = tf.cast(y, preds.dtype)\n",
        "    # calculate the contrastive loss between the true labels and\n",
        "    # the predicted labels\n",
        "    squaredPreds = K.square(preds)\n",
        "    squaredMargin = K.square(K.maximum(margin - preds, 0))\n",
        "    loss = K.mean(y * squaredPreds + (1 - y) * squaredMargin)\n",
        "    # return the computed contrastive loss to the calling function\n",
        "    return loss"
      ],
      "execution_count": 121,
      "outputs": []
    },
    {
      "cell_type": "code",
      "metadata": {
        "id": "NjDw9cIa57cS"
      },
      "source": [
        "def build_network():\n",
        "\n",
        "  network = Sequential()\n",
        "  network.add(Embedding(name=\"synopsis_embedd\",input_dim =len(t.word_index)+1, \n",
        "                       output_dim=len(embeddings_index['no']),weights=[embedding_matrix], \n",
        "                       input_length=train_q1_seq.shape[1],trainable=False))\n",
        "  network.add(LSTM(64,return_sequences=True, activation=\"relu\"))\n",
        "  network.add(Flatten())\n",
        "  network.add(Dense(128, activation='relu',\n",
        "                  kernel_regularizer=l2(1e-3),\n",
        "                  kernel_initializer='he_uniform'))\n",
        "  \n",
        "  network.add(Dense(2, activation=None,\n",
        "                  kernel_regularizer=l2(1e-3),\n",
        "                  kernel_initializer='he_uniform'))\n",
        "  \n",
        "  #Force the encoding to live on the d-dimentional hypershpere\n",
        "  network.add(Lambda(lambda x: K.l2_normalize(x,axis=-1)))\n",
        "\n",
        "  return network"
      ],
      "execution_count": 122,
      "outputs": []
    },
    {
      "cell_type": "code",
      "metadata": {
        "id": "SCCL0xlF57cS"
      },
      "source": [
        "input_1 = Input(shape=(train_q1_seq.shape[1],))\n",
        "input_2 = Input(shape=(train_q2_seq.shape[1],))\n",
        "\n",
        "network = build_network()\n",
        "\n",
        "encoded_input_1 = network(input_1)\n",
        "encoded_input_2 = network(input_2)\n",
        "\n",
        "distance = Lambda(euclidean_distance)([encoded_input_1, encoded_input_2])\n",
        "\n",
        "# Connect the inputs with the outputs\n",
        "model = Model([input_1, input_2], distance)\n",
        "\n",
        "model.compile(loss=contrastive_loss, optimizer=Adam(0.001))"
      ],
      "execution_count": 123,
      "outputs": []
    },
    {
      "cell_type": "code",
      "metadata": {
        "id": "KATT01qZ57cS"
      },
      "source": [
        "y_train = np.asarray(y_train).astype('float32')\n",
        "y_val = np.asarray(y_val).astype('float32')"
      ],
      "execution_count": 124,
      "outputs": []
    },
    {
      "cell_type": "code",
      "metadata": {
        "colab": {
          "base_uri": "https://localhost:8080/"
        },
        "id": "lxA170bD57cT",
        "outputId": "cf23843c-c751-4b98-be01-dc40adbcb047"
      },
      "source": [
        "model.fit([train_q1_seq,train_q2_seq],y_train.reshape(-1,1), epochs = 5, \n",
        "          batch_size=64,validation_data=([val_q1_seq, val_q2_seq],y_val.reshape(-1,1)))"
      ],
      "execution_count": 125,
      "outputs": [
        {
          "output_type": "stream",
          "text": [
            "Epoch 1/5\n",
            "50/50 [==============================] - 30s 524ms/step - loss: 0.4715 - val_loss: 0.3697\n",
            "Epoch 2/5\n",
            "50/50 [==============================] - 25s 497ms/step - loss: 0.3268 - val_loss: 0.3103\n",
            "Epoch 3/5\n",
            "50/50 [==============================] - 25s 501ms/step - loss: 0.2475 - val_loss: 0.2537\n",
            "Epoch 4/5\n",
            "50/50 [==============================] - 25s 499ms/step - loss: 0.1818 - val_loss: 0.2117\n",
            "Epoch 5/5\n",
            "50/50 [==============================] - 25s 500ms/step - loss: 0.1350 - val_loss: 0.1888\n"
          ],
          "name": "stdout"
        },
        {
          "output_type": "execute_result",
          "data": {
            "text/plain": [
              "<keras.callbacks.History at 0x7fe77448e410>"
            ]
          },
          "metadata": {
            "tags": []
          },
          "execution_count": 125
        }
      ]
    },
    {
      "cell_type": "code",
      "metadata": {
        "colab": {
          "base_uri": "https://localhost:8080/"
        },
        "id": "pEN2o_E257cT",
        "outputId": "f50fd5d8-6b7c-4571-d0ee-1b3e3233a928"
      },
      "source": [
        "# Save model for further use\n",
        "# serialize model to JSON\n",
        "model_json = model.to_json()\n",
        "with open(\"siamesemodel-contrastive-loss.json\", \"w\") as json_file:\n",
        "    json_file.write(model_json)\n",
        "#serialize weights to HDF5\n",
        "model.save_weights(\"siamesemodel-contrastive-loss.h5\")\n",
        "print(\"Saved model to disk\")\n",
        "\n",
        "# load json and create model\n",
        "# json_file = open('siamesemodel-contrastive-loss.json', 'r')\n",
        "# loaded_model_json = json_file.read()\n",
        "# json_file.close()\n",
        "# loaded_model = model_from_json(loaded_model_json)\n",
        "# # load weights into new model\n",
        "# loaded_model.load_weights(\"siamesemodel-contrastive-loss.h5\")\n",
        "# print(\"Loaded model from disk\")"
      ],
      "execution_count": 126,
      "outputs": [
        {
          "output_type": "stream",
          "text": [
            "Saved model to disk\n"
          ],
          "name": "stdout"
        }
      ]
    },
    {
      "cell_type": "markdown",
      "metadata": {
        "id": "nyH5Jgfz57cT"
      },
      "source": [
        "## Prediction"
      ]
    },
    {
      "cell_type": "markdown",
      "metadata": {
        "id": "m4mXH7zX57cU"
      },
      "source": [
        "### Non Disaster Tweet"
      ]
    },
    {
      "cell_type": "code",
      "metadata": {
        "colab": {
          "base_uri": "https://localhost:8080/",
          "height": 35
        },
        "id": "U5HJOJ8D57cU",
        "outputId": "9feed090-3a5d-45c2-ee35-71a88e3a44ac"
      },
      "source": [
        "non_disaster_initial[122]"
      ],
      "execution_count": 127,
      "outputs": [
        {
          "output_type": "execute_result",
          "data": {
            "application/vnd.google.colaboratory.intrinsic+json": {
              "type": "string"
            },
            "text/plain": [
              "'stormbeard steellord see juda priest 2005 rob come back scorpion support fuck annihilated place astonish gig'"
            ]
          },
          "metadata": {
            "tags": []
          },
          "execution_count": 127
        }
      ]
    },
    {
      "cell_type": "code",
      "metadata": {
        "colab": {
          "base_uri": "https://localhost:8080/"
        },
        "id": "9WGcKa4N57cU",
        "outputId": "0f219537-0563-4051-e8d5-32fe0a3e30c5"
      },
      "source": [
        "prediction_data = \"usdjpy despite richter scale overbought fxstreet line swissquote bullish long jason sen mr ambulance chaser b…\"\n",
        "prediction_vector = t.texts_to_sequences([prediction_data])\n",
        "prediction_vector = pad_sequences(prediction_vector,maxlen=200)\n",
        "\n",
        "assistant_data = disaster[11]\n",
        "assistant_vector = t.texts_to_sequences([assistant_data])\n",
        "assistant_vector = pad_sequences(assistant_vector,maxlen=200)\n",
        "\n",
        "model.predict([prediction_vector, assistant_vector])"
      ],
      "execution_count": 128,
      "outputs": [
        {
          "output_type": "execute_result",
          "data": {
            "text/plain": [
              "array([[0.6299253]], dtype=float32)"
            ]
          },
          "metadata": {
            "tags": []
          },
          "execution_count": 128
        }
      ]
    },
    {
      "cell_type": "code",
      "metadata": {
        "colab": {
          "base_uri": "https://localhost:8080/"
        },
        "id": "m9qNfFA157cV",
        "outputId": "079502ab-3227-4019-ed7f-98b4ae0b9a5d"
      },
      "source": [
        "prediction_data = \"usdjpy despite richter scale overbought fxstreet line swissquote bullish long jason sen mr ambulance chaser b…\"\n",
        "prediction_vector = t.texts_to_sequences([prediction_data])\n",
        "prediction_vector = pad_sequences(prediction_vector,maxlen=200)\n",
        "\n",
        "assistant_data = non_disaster[11]\n",
        "assistant_vector = t.texts_to_sequences([assistant_data])\n",
        "assistant_vector = pad_sequences(assistant_vector,maxlen=200)\n",
        "\n",
        "model.predict([prediction_vector, assistant_vector])"
      ],
      "execution_count": 129,
      "outputs": [
        {
          "output_type": "execute_result",
          "data": {
            "text/plain": [
              "array([[0.0962953]], dtype=float32)"
            ]
          },
          "metadata": {
            "tags": []
          },
          "execution_count": 129
        }
      ]
    },
    {
      "cell_type": "markdown",
      "metadata": {
        "id": "7mm189pF57cV"
      },
      "source": [
        "### Disaster Tweet"
      ]
    },
    {
      "cell_type": "code",
      "metadata": {
        "colab": {
          "base_uri": "https://localhost:8080/",
          "height": 35
        },
        "id": "hXbqymid57cV",
        "outputId": "2a22a178-8c33-443b-c478-731b9984fdb8"
      },
      "source": [
        "disaster_initial[12]"
      ],
      "execution_count": 130,
      "outputs": [
        {
          "output_type": "execute_result",
          "data": {
            "application/vnd.google.colaboratory.intrinsic+json": {
              "type": "string"
            },
            "text/plain": [
              "'rain flood florida tampabay tampa 18 19 day ive lose count'"
            ]
          },
          "metadata": {
            "tags": []
          },
          "execution_count": 130
        }
      ]
    },
    {
      "cell_type": "code",
      "metadata": {
        "colab": {
          "base_uri": "https://localhost:8080/"
        },
        "id": "6pAeqE4x57cW",
        "outputId": "9a62f81e-60b7-49f7-ca35-db299424afc1"
      },
      "source": [
        "prediction_data = \"cameroon bir soldier 05012020 invaded southerncameroons village kimar set ablaze total of\"\n",
        "prediction_vector = t.texts_to_sequences([prediction_data])\n",
        "prediction_vector = pad_sequences(prediction_vector,maxlen=200)\n",
        "\n",
        "assistant_data = disaster[11]\n",
        "assistant_vector = t.texts_to_sequences([assistant_data])\n",
        "assistant_vector = pad_sequences(assistant_vector,maxlen=200)\n",
        "\n",
        "model.predict([prediction_vector, assistant_vector])"
      ],
      "execution_count": 131,
      "outputs": [
        {
          "output_type": "execute_result",
          "data": {
            "text/plain": [
              "array([[0.16996439]], dtype=float32)"
            ]
          },
          "metadata": {
            "tags": []
          },
          "execution_count": 131
        }
      ]
    },
    {
      "cell_type": "code",
      "metadata": {
        "colab": {
          "base_uri": "https://localhost:8080/"
        },
        "id": "cIm5CrsX57cW",
        "outputId": "8f4e4bec-e6ba-456a-f3f1-5aee839f11e8"
      },
      "source": [
        "prediction_data = \"cameroon bir soldier 05012020 invaded southerncameroons village kimar set ablaze total of\"\n",
        "prediction_vector = t.texts_to_sequences([prediction_data])\n",
        "prediction_vector = pad_sequences(prediction_vector,maxlen=200)\n",
        "\n",
        "assistant_data = non_disaster[11]\n",
        "assistant_vector = t.texts_to_sequences([assistant_data])\n",
        "assistant_vector = pad_sequences(assistant_vector,maxlen=200)\n",
        "\n",
        "model.predict([prediction_vector, assistant_vector])"
      ],
      "execution_count": 132,
      "outputs": [
        {
          "output_type": "execute_result",
          "data": {
            "text/plain": [
              "array([[0.37215072]], dtype=float32)"
            ]
          },
          "metadata": {
            "tags": []
          },
          "execution_count": 132
        }
      ]
    },
    {
      "cell_type": "markdown",
      "metadata": {
        "id": "ZmfKDhxF57cW"
      },
      "source": [
        "# Triplet Loss"
      ]
    },
    {
      "cell_type": "markdown",
      "metadata": {
        "id": "SjdsQ4-oeY3m"
      },
      "source": [
        "## Data Preparation"
      ]
    },
    {
      "cell_type": "code",
      "metadata": {
        "id": "wn6npGixedaN",
        "execution": {
          "iopub.status.busy": "2021-05-29T13:12:54.437426Z",
          "iopub.execute_input": "2021-05-29T13:12:54.43778Z",
          "iopub.status.idle": "2021-05-29T13:13:01.539132Z",
          "shell.execute_reply.started": "2021-05-29T13:12:54.437739Z",
          "shell.execute_reply": "2021-05-29T13:13:01.538009Z"
        },
        "trusted": true
      },
      "source": [
        "disaster_initial = list(df[df['target'] == 1]['clean_text'])\n",
        "non_disaster_initial = list(df[df['target'] == 0]['clean_text'])\n",
        "\n",
        "# Taking 1000 samples from the entire data\n",
        "disaster = disaster_initial[:1000]\n",
        "non_disaster = non_disaster_initial[:1000]\n",
        "\n",
        "# Creating pairs of data for siamese training => labels for identity loss and class for disaster or non disaster\n",
        "df2 = pd.DataFrame(columns=['Anchor', 'Positive', 'Negative', 'label', 'class'])\n",
        "\n",
        "for data in disaster:\n",
        "  a = data\n",
        "  p = random.choice(disaster)\n",
        "  n = random.choice(non_disaster)\n",
        "\n",
        "  df2.loc[len(df2)] = [a, p, n, 1, 1]\n",
        "\n",
        "\n",
        "for data in non_disaster:\n",
        "  a = data\n",
        "  p = random.choice(non_disaster)\n",
        "  n = random.choice(disaster)\n",
        "  \n",
        "  df2.loc[len(df2)] = [a, p, n, 1, 0]"
      ],
      "execution_count": 133,
      "outputs": []
    },
    {
      "cell_type": "code",
      "metadata": {
        "id": "EvVkio8nm6DK",
        "execution": {
          "iopub.status.busy": "2021-05-29T13:13:05.418986Z",
          "iopub.execute_input": "2021-05-29T13:13:05.419363Z",
          "iopub.status.idle": "2021-05-29T13:13:05.426696Z",
          "shell.execute_reply.started": "2021-05-29T13:13:05.419332Z",
          "shell.execute_reply": "2021-05-29T13:13:05.425165Z"
        },
        "trusted": true,
        "colab": {
          "base_uri": "https://localhost:8080/"
        },
        "outputId": "fb538b6b-857b-4027-fac7-e22305677ffe"
      },
      "source": [
        "df2.shape"
      ],
      "execution_count": 134,
      "outputs": [
        {
          "output_type": "execute_result",
          "data": {
            "text/plain": [
              "(2000, 5)"
            ]
          },
          "metadata": {
            "tags": []
          },
          "execution_count": 134
        }
      ]
    },
    {
      "cell_type": "code",
      "metadata": {
        "id": "vMaxZO6Tec61",
        "execution": {
          "iopub.status.busy": "2021-05-29T13:13:05.585618Z",
          "iopub.execute_input": "2021-05-29T13:13:05.586025Z",
          "iopub.status.idle": "2021-05-29T13:13:05.601534Z",
          "shell.execute_reply.started": "2021-05-29T13:13:05.585981Z",
          "shell.execute_reply": "2021-05-29T13:13:05.600167Z"
        },
        "trusted": true,
        "colab": {
          "base_uri": "https://localhost:8080/",
          "height": 200
        },
        "outputId": "fdc5bf8e-04d8-46c0-dd80-a7b37289ad4b"
      },
      "source": [
        "display(df2.sample(5))"
      ],
      "execution_count": 135,
      "outputs": [
        {
          "output_type": "display_data",
          "data": {
            "text/html": [
              "<div>\n",
              "<style scoped>\n",
              "    .dataframe tbody tr th:only-of-type {\n",
              "        vertical-align: middle;\n",
              "    }\n",
              "\n",
              "    .dataframe tbody tr th {\n",
              "        vertical-align: top;\n",
              "    }\n",
              "\n",
              "    .dataframe thead th {\n",
              "        text-align: right;\n",
              "    }\n",
              "</style>\n",
              "<table border=\"1\" class=\"dataframe\">\n",
              "  <thead>\n",
              "    <tr style=\"text-align: right;\">\n",
              "      <th></th>\n",
              "      <th>Anchor</th>\n",
              "      <th>Positive</th>\n",
              "      <th>Negative</th>\n",
              "      <th>label</th>\n",
              "      <th>class</th>\n",
              "    </tr>\n",
              "  </thead>\n",
              "  <tbody>\n",
              "    <tr>\n",
              "      <th>970</th>\n",
              "      <td>thanks lot roadworks men cos tube strike wasnt...</td>\n",
              "      <td>traintragedy happen mp due collapse bridge afr...</td>\n",
              "      <td>ehutch da bomb</td>\n",
              "      <td>1</td>\n",
              "      <td>1</td>\n",
              "    </tr>\n",
              "    <tr>\n",
              "      <th>1968</th>\n",
              "      <td>go ibiza pop ah pill get drunk fall cliff real...</td>\n",
              "      <td>lee comedy ûïleejasper work class tory prepar...</td>\n",
              "      <td>correction tent collapse story</td>\n",
              "      <td>1</td>\n",
              "      <td>0</td>\n",
              "    </tr>\n",
              "    <tr>\n",
              "      <th>1688</th>\n",
              "      <td>g body bag lyrically</td>\n",
              "      <td>new summer long thin body bag hip word skirt blue</td>\n",
              "      <td>unsuckdcmetro train halfderailed halfrailed de...</td>\n",
              "      <td>1</td>\n",
              "      <td>0</td>\n",
              "    </tr>\n",
              "    <tr>\n",
              "      <th>26</th>\n",
              "      <td>navista7 steve fire something else california ...</td>\n",
              "      <td>countermoonbat voodooben ive heard still use p...</td>\n",
              "      <td>ambulance sprinter automatic frontline vehicle...</td>\n",
              "      <td>1</td>\n",
              "      <td>1</td>\n",
              "    </tr>\n",
              "    <tr>\n",
              "      <th>1786</th>\n",
              "      <td>wasp dive bomb face</td>\n",
              "      <td>2 burn man ticket vehicle pass full read ebay</td>\n",
              "      <td>peterjukes good ground believe political milit...</td>\n",
              "      <td>1</td>\n",
              "      <td>0</td>\n",
              "    </tr>\n",
              "  </tbody>\n",
              "</table>\n",
              "</div>"
            ],
            "text/plain": [
              "                                                 Anchor  ... class\n",
              "970   thanks lot roadworks men cos tube strike wasnt...  ...     1\n",
              "1968  go ibiza pop ah pill get drunk fall cliff real...  ...     0\n",
              "1688                               g body bag lyrically  ...     0\n",
              "26    navista7 steve fire something else california ...  ...     1\n",
              "1786                                wasp dive bomb face  ...     0\n",
              "\n",
              "[5 rows x 5 columns]"
            ]
          },
          "metadata": {
            "tags": []
          }
        }
      ]
    },
    {
      "cell_type": "markdown",
      "metadata": {
        "id": "WcxiqrHCfEJu"
      },
      "source": [
        "## Data Split"
      ]
    },
    {
      "cell_type": "code",
      "metadata": {
        "id": "plFj4OyEfEJu",
        "execution": {
          "iopub.status.busy": "2021-05-29T13:13:12.584369Z",
          "iopub.execute_input": "2021-05-29T13:13:12.584713Z",
          "iopub.status.idle": "2021-05-29T13:13:12.601506Z",
          "shell.execute_reply.started": "2021-05-29T13:13:12.584685Z",
          "shell.execute_reply": "2021-05-29T13:13:12.600344Z"
        },
        "trusted": true,
        "colab": {
          "base_uri": "https://localhost:8080/"
        },
        "outputId": "64dc62c0-37c1-4911-955d-ddc1f832c9fa"
      },
      "source": [
        "X, X_test, y, y_test = train_test_split(df2[['Anchor', 'Positive', 'Negative']], df2[['label', 'class']], test_size=0.2, random_state=0)\n",
        "X_train, X_val, y_train, y_val = train_test_split(X[['Anchor', 'Positive', 'Negative']], y[['label', 'class']], test_size=0.2, random_state=0)\n",
        "print(X_train.shape, X_val.shape, X_test.shape, y_train.shape, y_val.shape, y_test.shape)"
      ],
      "execution_count": 136,
      "outputs": [
        {
          "output_type": "stream",
          "text": [
            "(1280, 3) (320, 3) (400, 3) (1280, 2) (320, 2) (400, 2)\n"
          ],
          "name": "stdout"
        }
      ]
    },
    {
      "cell_type": "code",
      "metadata": {
        "id": "8sj77LIvfEJu",
        "execution": {
          "iopub.status.busy": "2021-05-29T13:13:14.127945Z",
          "iopub.execute_input": "2021-05-29T13:13:14.128318Z",
          "iopub.status.idle": "2021-05-29T13:13:14.163368Z",
          "shell.execute_reply.started": "2021-05-29T13:13:14.128288Z",
          "shell.execute_reply": "2021-05-29T13:13:14.162285Z"
        },
        "trusted": true
      },
      "source": [
        "X_train['text'] = X_train[['Anchor', 'Positive', 'Negative']].apply(lambda x: str(x[0])+\" \"+str(x[1])+\" \"+str(x[2]), axis=1)"
      ],
      "execution_count": 137,
      "outputs": []
    },
    {
      "cell_type": "markdown",
      "metadata": {
        "id": "0D8iSVUxxbos"
      },
      "source": [
        "## Glove Embeddings"
      ]
    },
    {
      "cell_type": "code",
      "metadata": {
        "id": "rngd1uXGfEJu",
        "execution": {
          "iopub.status.busy": "2021-05-29T13:13:19.595394Z",
          "iopub.execute_input": "2021-05-29T13:13:19.595805Z",
          "iopub.status.idle": "2021-05-29T13:13:19.797538Z",
          "shell.execute_reply.started": "2021-05-29T13:13:19.595769Z",
          "shell.execute_reply": "2021-05-29T13:13:19.796284Z"
        },
        "trusted": true
      },
      "source": [
        "t = Tokenizer()\n",
        "t.fit_on_texts(X_train['text'].values)\n",
        "\n",
        "X_train['Anchor'] = X_train['Anchor'].astype(str)\n",
        "X_train['Positive'] = X_train['Positive'].astype(str)\n",
        "X_train['Negative'] = X_train['Negative'].astype(str)\n",
        "X_val['Anchor'] = X_val['Anchor'].astype(str)\n",
        "X_val['Positive'] = X_val['Positive'].astype(str)\n",
        "X_val['Negative'] = X_val['Negative'].astype(str)\n",
        "X_test['Anchor'] = X_test['Anchor'].astype(str)\n",
        "X_test['Positive'] = X_test['Positive'].astype(str)\n",
        "X_test['Negative'] = X_test['Negative'].astype(str)\n",
        "\n",
        "train_q1_seq = t.texts_to_sequences(X_train['Anchor'].values)\n",
        "train_q2_seq = t.texts_to_sequences(X_train['Positive'].values)\n",
        "train_q3_seq = t.texts_to_sequences(X_train['Negative'].values)\n",
        "val_q1_seq = t.texts_to_sequences(X_val['Anchor'].values)\n",
        "val_q2_seq = t.texts_to_sequences(X_val['Positive'].values)\n",
        "val_q3_seq = t.texts_to_sequences(X_val['Negative'].values)\n",
        "test_q1_seq = t.texts_to_sequences(X_test['Anchor'].values)\n",
        "test_q2_seq = t.texts_to_sequences(X_test['Positive'].values)\n",
        "test_q3_seq = t.texts_to_sequences(X_test['Negative'].values)\n",
        "\n",
        "max_len = 200\n",
        "train_q1_seq = pad_sequences(train_q1_seq, maxlen=max_len, padding='post')\n",
        "train_q2_seq = pad_sequences(train_q2_seq, maxlen=max_len, padding='post')\n",
        "train_q3_seq = pad_sequences(train_q3_seq, maxlen=max_len, padding='post')\n",
        "val_q1_seq = pad_sequences(val_q1_seq, maxlen=max_len, padding='post')\n",
        "val_q2_seq = pad_sequences(val_q2_seq, maxlen=max_len, padding='post')\n",
        "val_q3_seq = pad_sequences(val_q3_seq, maxlen=max_len, padding='post')\n",
        "test_q1_seq = pad_sequences(test_q1_seq, maxlen=max_len, padding='post')\n",
        "test_q2_seq = pad_sequences(test_q2_seq, maxlen=max_len, padding='post')\n",
        "test_q3_seq = pad_sequences(test_q3_seq, maxlen=max_len, padding='post')"
      ],
      "execution_count": 138,
      "outputs": []
    },
    {
      "cell_type": "code",
      "metadata": {
        "id": "zPz4Swc2fEJv",
        "execution": {
          "iopub.status.busy": "2021-05-29T13:13:38.731964Z",
          "iopub.execute_input": "2021-05-29T13:13:38.732336Z",
          "iopub.status.idle": "2021-05-29T13:14:26.049237Z",
          "shell.execute_reply.started": "2021-05-29T13:13:38.732305Z",
          "shell.execute_reply": "2021-05-29T13:14:26.048366Z"
        },
        "trusted": true,
        "colab": {
          "base_uri": "https://localhost:8080/"
        },
        "outputId": "d25e1eb5-9e1c-4f7f-ea31-cf960d92f209"
      },
      "source": [
        "#https://blog.keras.io/using-pre-trained-word-embeddings-in-a-keras-model.html\n",
        "embeddings_index = {}\n",
        "f = open('../content/glove.6B.300d.txt')\n",
        "for line in f:\n",
        "    values = line.split()\n",
        "    word = values[0]\n",
        "    coefs = np.asarray(values[1:], dtype='float32')\n",
        "    embeddings_index[word] = coefs\n",
        "f.close()\n",
        "\n",
        "print('Found %s word vectors.' % len(embeddings_index))"
      ],
      "execution_count": 139,
      "outputs": [
        {
          "output_type": "stream",
          "text": [
            "Found 30745 word vectors.\n"
          ],
          "name": "stdout"
        }
      ]
    },
    {
      "cell_type": "code",
      "metadata": {
        "id": "LTdyVvzrfEJv",
        "execution": {
          "iopub.status.busy": "2021-05-29T13:14:26.050629Z",
          "iopub.execute_input": "2021-05-29T13:14:26.051039Z",
          "iopub.status.idle": "2021-05-29T13:14:26.083513Z",
          "shell.execute_reply.started": "2021-05-29T13:14:26.050998Z",
          "shell.execute_reply": "2021-05-29T13:14:26.082755Z"
        },
        "trusted": true,
        "colab": {
          "base_uri": "https://localhost:8080/"
        },
        "outputId": "b52e8bfc-c5f7-444d-908e-39101e0f7856"
      },
      "source": [
        "not_present_list = []\n",
        "vocab_size = len(t.word_index) + 1\n",
        "print('Loaded %s word vectors.' % len(embeddings_index))\n",
        "embedding_matrix = np.zeros((vocab_size, len(embeddings_index['no'])))\n",
        "for word, i in t.word_index.items():\n",
        "    if word in embeddings_index.keys():\n",
        "        embedding_vector = embeddings_index.get(word)\n",
        "    else:\n",
        "        not_present_list.append(word)\n",
        "    if embedding_vector is not None:\n",
        "        embedding_matrix[i] = embedding_vector\n",
        "    else:\n",
        "        embedding_matrix[i] = np.zeros(300)"
      ],
      "execution_count": 140,
      "outputs": [
        {
          "output_type": "stream",
          "text": [
            "Loaded 30745 word vectors.\n"
          ],
          "name": "stdout"
        }
      ]
    },
    {
      "cell_type": "code",
      "metadata": {
        "id": "5q9WJ8GhfEJv",
        "execution": {
          "iopub.status.busy": "2021-05-29T13:14:26.08449Z",
          "iopub.execute_input": "2021-05-29T13:14:26.084891Z",
          "iopub.status.idle": "2021-05-29T13:14:26.090889Z",
          "shell.execute_reply.started": "2021-05-29T13:14:26.084861Z",
          "shell.execute_reply": "2021-05-29T13:14:26.089329Z"
        },
        "trusted": true,
        "colab": {
          "base_uri": "https://localhost:8080/"
        },
        "outputId": "0c4350e2-a264-4bec-df82-c1f9240247bc"
      },
      "source": [
        "print(embedding_matrix.shape)"
      ],
      "execution_count": 141,
      "outputs": [
        {
          "output_type": "stream",
          "text": [
            "(5708, 300)\n"
          ],
          "name": "stdout"
        }
      ]
    },
    {
      "cell_type": "markdown",
      "metadata": {
        "id": "EIuQ9I6PxT-6"
      },
      "source": [
        "## Siamese Model"
      ]
    },
    {
      "cell_type": "code",
      "metadata": {
        "id": "YAhYNYXbfEJw",
        "execution": {
          "iopub.status.busy": "2021-05-29T13:15:47.186366Z",
          "iopub.execute_input": "2021-05-29T13:15:47.186963Z",
          "iopub.status.idle": "2021-05-29T13:15:47.194395Z",
          "shell.execute_reply.started": "2021-05-29T13:15:47.186913Z",
          "shell.execute_reply": "2021-05-29T13:15:47.193551Z"
        },
        "trusted": true
      },
      "source": [
        "def identity_loss(y_true, y_pred):\n",
        "    return K.mean(y_pred)\n",
        "\n",
        "def triplet_loss(x, alpha = 0.2):\n",
        "    # Triplet Loss function.\n",
        "    anchor,positive,negative = x\n",
        "    # distance between the anchor and the positive\n",
        "    pos_dist = K.sum(K.square(anchor-positive),axis=1)\n",
        "    # distance between the anchor and the negative\n",
        "    neg_dist = K.sum(K.square(anchor-negative),axis=1)\n",
        "    # compute loss\n",
        "    basic_loss = pos_dist-neg_dist+alpha\n",
        "    loss = K.maximum(basic_loss,0.0)\n",
        "    return loss"
      ],
      "execution_count": 142,
      "outputs": []
    },
    {
      "cell_type": "code",
      "metadata": {
        "id": "N2FZDhh-Q5ii",
        "execution": {
          "iopub.status.busy": "2021-05-29T13:15:47.711128Z",
          "iopub.execute_input": "2021-05-29T13:15:47.711646Z",
          "iopub.status.idle": "2021-05-29T13:15:47.721504Z",
          "shell.execute_reply.started": "2021-05-29T13:15:47.711613Z",
          "shell.execute_reply": "2021-05-29T13:15:47.720704Z"
        },
        "trusted": true
      },
      "source": [
        "def embedding_model():\n",
        "\n",
        "  network = Sequential()\n",
        "  network.add(Embedding(name=\"synopsis_embedd\",input_dim =len(t.word_index)+1, \n",
        "                       output_dim=len(embeddings_index['no']),weights=[embedding_matrix], \n",
        "                       input_length=train_q1_seq.shape[1],trainable=False))\n",
        "  network.add(LSTM(64,return_sequences=True, activation=\"relu\"))\n",
        "  network.add(Flatten())\n",
        "  network.add(Dense(128, activation='relu',\n",
        "                  kernel_regularizer=l2(1e-3),\n",
        "                  kernel_initializer='he_uniform'))\n",
        "  \n",
        "  network.add(Dense(2, activation=None,\n",
        "                  kernel_regularizer=l2(1e-3),\n",
        "                  kernel_initializer='he_uniform'))\n",
        "  \n",
        "  #Force the encoding to live on the d-dimentional hypershpere\n",
        "  # network.add(Lambda(lambda x: K.l2_normalize(x,axis=-1)))\n",
        "\n",
        "  return network\n",
        "\n",
        "\n",
        "def build_network(base_model):\n",
        "\n",
        "  input_1 = Input(shape=(train_q1_seq.shape[1],))\n",
        "  input_2 = Input(shape=(train_q2_seq.shape[1],))\n",
        "  input_3 = Input(shape=(train_q3_seq.shape[1],))\n",
        "\n",
        "  A = base_model(input_1)\n",
        "  P = base_model(input_2)\n",
        "  N = base_model(input_3)\n",
        "\n",
        "  loss = Lambda(triplet_loss)([A, P, N])\n",
        "  model = Model(inputs = [input_1, input_2, input_3], outputs = loss)\n",
        "  model.compile(loss = identity_loss, optimizer = Adam(0.001))\n",
        "  return model"
      ],
      "execution_count": 143,
      "outputs": []
    },
    {
      "cell_type": "code",
      "metadata": {
        "id": "4kR00lIaR1Q7",
        "execution": {
          "iopub.status.busy": "2021-05-29T13:15:48.208575Z",
          "iopub.execute_input": "2021-05-29T13:15:48.209283Z",
          "iopub.status.idle": "2021-05-29T13:15:48.724474Z",
          "shell.execute_reply.started": "2021-05-29T13:15:48.209229Z",
          "shell.execute_reply": "2021-05-29T13:15:48.721809Z"
        },
        "trusted": true,
        "colab": {
          "base_uri": "https://localhost:8080/"
        },
        "outputId": "03e45f5d-c332-4c80-c0e8-34c25cabdb2d"
      },
      "source": [
        "base_model = embedding_model()\n",
        "model = build_network(base_model)\n",
        "model.summary()"
      ],
      "execution_count": 144,
      "outputs": [
        {
          "output_type": "stream",
          "text": [
            "Model: \"model_4\"\n",
            "__________________________________________________________________________________________________\n",
            "Layer (type)                    Output Shape         Param #     Connected to                     \n",
            "==================================================================================================\n",
            "input_9 (InputLayer)            [(None, 200)]        0                                            \n",
            "__________________________________________________________________________________________________\n",
            "input_10 (InputLayer)           [(None, 200)]        0                                            \n",
            "__________________________________________________________________________________________________\n",
            "input_11 (InputLayer)           [(None, 200)]        0                                            \n",
            "__________________________________________________________________________________________________\n",
            "sequential_3 (Sequential)       (None, 2)            3444626     input_9[0][0]                    \n",
            "                                                                 input_10[0][0]                   \n",
            "                                                                 input_11[0][0]                   \n",
            "__________________________________________________________________________________________________\n",
            "lambda_5 (Lambda)               (None,)              0           sequential_3[0][0]               \n",
            "                                                                 sequential_3[1][0]               \n",
            "                                                                 sequential_3[2][0]               \n",
            "==================================================================================================\n",
            "Total params: 3,444,626\n",
            "Trainable params: 1,732,226\n",
            "Non-trainable params: 1,712,400\n",
            "__________________________________________________________________________________________________\n"
          ],
          "name": "stdout"
        }
      ]
    },
    {
      "cell_type": "code",
      "metadata": {
        "id": "JKfZKgGQpTVk",
        "execution": {
          "iopub.status.busy": "2021-05-29T13:15:51.014175Z",
          "iopub.execute_input": "2021-05-29T13:15:51.014561Z",
          "iopub.status.idle": "2021-05-29T13:15:51.023711Z",
          "shell.execute_reply.started": "2021-05-29T13:15:51.01453Z",
          "shell.execute_reply": "2021-05-29T13:15:51.022222Z"
        },
        "trusted": true
      },
      "source": [
        "y_train_label = np.asarray(y_train['label']).astype('float32')\n",
        "y_val_label = np.asarray(y_val['label']).astype('float32')\n",
        "y_test_label = np.asarray(y_test['label']).astype('float32')\n",
        "\n",
        "y_train_class = np.asarray(y_train['class']).astype('float32')\n",
        "y_val_class = np.asarray(y_val['class']).astype('float32')\n",
        "y_test_class = np.asarray(y_test['class']).astype('float32')"
      ],
      "execution_count": 145,
      "outputs": []
    },
    {
      "cell_type": "code",
      "metadata": {
        "id": "H5pi0g8kfEJw",
        "execution": {
          "iopub.status.busy": "2021-05-29T13:15:53.865834Z",
          "iopub.execute_input": "2021-05-29T13:15:53.866246Z",
          "iopub.status.idle": "2021-05-29T13:16:45.649894Z",
          "shell.execute_reply.started": "2021-05-29T13:15:53.866212Z",
          "shell.execute_reply": "2021-05-29T13:16:45.648422Z"
        },
        "trusted": true,
        "colab": {
          "base_uri": "https://localhost:8080/"
        },
        "outputId": "6b0854ef-1ce9-4694-f258-0e1931894717"
      },
      "source": [
        "history = model.fit([train_q1_seq,train_q2_seq, train_q3_seq],y_train_label.reshape(-1,1), epochs = 5, \n",
        "          batch_size=64,validation_data=([val_q1_seq, val_q2_seq, val_q3_seq],y_val_label.reshape(-1,1)))"
      ],
      "execution_count": 146,
      "outputs": [
        {
          "output_type": "stream",
          "text": [
            "Epoch 1/5\n",
            "20/20 [==============================] - 22s 869ms/step - loss: 0.3569 - val_loss: 0.1931\n",
            "Epoch 2/5\n",
            "20/20 [==============================] - 15s 758ms/step - loss: 0.1527 - val_loss: 0.1718\n",
            "Epoch 3/5\n",
            "20/20 [==============================] - 15s 758ms/step - loss: 0.1021 - val_loss: 0.1825\n",
            "Epoch 4/5\n",
            "20/20 [==============================] - 15s 756ms/step - loss: 0.0744 - val_loss: 0.1703\n",
            "Epoch 5/5\n",
            "20/20 [==============================] - 15s 761ms/step - loss: 0.0492 - val_loss: 0.2187\n"
          ],
          "name": "stdout"
        }
      ]
    },
    {
      "cell_type": "code",
      "metadata": {
        "id": "Umv9p8U-kwdq",
        "execution": {
          "iopub.status.busy": "2021-05-29T13:16:49.577781Z",
          "iopub.execute_input": "2021-05-29T13:16:49.578342Z",
          "iopub.status.idle": "2021-05-29T13:16:49.787894Z",
          "shell.execute_reply.started": "2021-05-29T13:16:49.578308Z",
          "shell.execute_reply": "2021-05-29T13:16:49.786522Z"
        },
        "trusted": true,
        "colab": {
          "base_uri": "https://localhost:8080/",
          "height": 295
        },
        "outputId": "ca3f7ce3-2765-4871-9b91-700213dccf82"
      },
      "source": [
        "plt.plot(history.history['loss'])\n",
        "plt.plot(history.history['val_loss'])\n",
        "plt.title('Training and Validation Losses',size = 12)\n",
        "plt.ylabel('loss')\n",
        "plt.xlabel('epoch')\n",
        "plt.legend(['train', 'val'], loc='upper right')\n",
        "plt.show()"
      ],
      "execution_count": 147,
      "outputs": [
        {
          "output_type": "display_data",
          "data": {
            "image/png": "[encoded data removed]",
            "text/plain": [
              "<Figure size 432x288 with 1 Axes>"
            ]
          },
          "metadata": {
            "tags": [],
            "needs_background": "light"
          }
        }
      ]
    },
    {
      "cell_type": "code",
      "metadata": {
        "id": "WtbfF-TAgg6y",
        "execution": {
          "iopub.status.busy": "2021-05-29T13:16:52.762679Z",
          "iopub.execute_input": "2021-05-29T13:16:52.763101Z",
          "iopub.status.idle": "2021-05-29T13:16:52.820094Z",
          "shell.execute_reply.started": "2021-05-29T13:16:52.763067Z",
          "shell.execute_reply": "2021-05-29T13:16:52.818792Z"
        },
        "trusted": true,
        "colab": {
          "base_uri": "https://localhost:8080/"
        },
        "outputId": "ae1cf733-855e-43aa-ea9e-786645002e26"
      },
      "source": [
        "# Save model for further use\n",
        "# serialize model to JSON\n",
        "model_json = model.to_json()\n",
        "with open(\"siamesemodel-triplet-loss.json\", \"w\") as json_file:\n",
        "    json_file.write(model_json)\n",
        "#serialize weights to HDF5\n",
        "model.save_weights(\"siamesemodel-triplet-loss.h5\")\n",
        "print(\"Saved model to disk\")\n",
        "\n",
        "# load json and create model\n",
        "# json_file = open('siamesemodel-triplet-loss.json', 'r')\n",
        "# loaded_model_json = json_file.read()\n",
        "# json_file.close()\n",
        "# loaded_model = model_from_json(loaded_model_json)\n",
        "# # load weights into new model\n",
        "# loaded_model.load_weights(\"siamesemodel-triplet-loss.h5\")\n",
        "# print(\"Loaded model from disk\")"
      ],
      "execution_count": 148,
      "outputs": [
        {
          "output_type": "stream",
          "text": [
            "Saved model to disk\n"
          ],
          "name": "stdout"
        }
      ]
    },
    {
      "cell_type": "markdown",
      "metadata": {
        "id": "g-LcxI3CsiPh"
      },
      "source": [
        "## Evaluation"
      ]
    },
    {
      "cell_type": "code",
      "metadata": {
        "id": "h-1uxiHPf-tb",
        "execution": {
          "iopub.status.busy": "2021-05-29T13:16:56.237368Z",
          "iopub.execute_input": "2021-05-29T13:16:56.237751Z",
          "iopub.status.idle": "2021-05-29T13:17:04.983746Z",
          "shell.execute_reply.started": "2021-05-29T13:16:56.237717Z",
          "shell.execute_reply": "2021-05-29T13:17:04.982783Z"
        },
        "trusted": true
      },
      "source": [
        "X_train_eval = base_model.predict(train_q1_seq)\n",
        "X_test_eval = base_model.predict(test_q1_seq)\n",
        "\n",
        "# TSNE - dimensionality reduction for data visualization\n",
        "tsne = TSNE()\n",
        "train_tsne_embeds = tsne.fit_transform(X_train_eval)"
      ],
      "execution_count": 149,
      "outputs": []
    },
    {
      "cell_type": "code",
      "metadata": {
        "id": "YCm3vCDEDA_z",
        "execution": {
          "iopub.status.busy": "2021-05-29T13:17:06.968612Z",
          "iopub.execute_input": "2021-05-29T13:17:06.969338Z",
          "iopub.status.idle": "2021-05-29T13:17:07.084914Z",
          "shell.execute_reply.started": "2021-05-29T13:17:06.969295Z",
          "shell.execute_reply": "2021-05-29T13:17:07.083329Z"
        },
        "trusted": true,
        "colab": {
          "base_uri": "https://localhost:8080/",
          "height": 466
        },
        "outputId": "a3544ebd-895f-4463-cbd2-1e53753b88b7"
      },
      "source": [
        "def scatter(x, labels, subtitle=None):\n",
        "    # Create a scatter plot of all the \n",
        "    # the embeddings of the model.\n",
        "    # We choose a color palette with seaborn.\n",
        "    palette = np.array(sns.color_palette(\"hls\", 2))\n",
        "    # We create a scatter plot.\n",
        "    f = plt.figure(figsize=(8, 8))\n",
        "    ax = plt.subplot(aspect='equal')\n",
        "    sc = ax.scatter(x[:,0], x[:,1], lw=0,alpha = 0.5, s=40,\n",
        "                    c=palette[labels.astype(np.int)] )\n",
        "    plt.xlim(-25, 25)\n",
        "    plt.ylim(-25, 25)\n",
        "    ax.axis('off')\n",
        "    ax.axis('tight')\n",
        "\n",
        "scatter(train_tsne_embeds, y_train_class)\n",
        "plt.savefig('data_clustering')"
      ],
      "execution_count": 155,
      "outputs": [
        {
          "output_type": "display_data",
          "data": {
            "image/png": "[encoded data removed]",
            "text/plain": [
              "<Figure size 576x576 with 1 Axes>"
            ]
          },
          "metadata": {
            "tags": [],
            "needs_background": "light"
          }
        }
      ]
    },
    {
      "cell_type": "code",
      "metadata": {
        "id": "_YXXb3PrDAMj",
        "execution": {
          "iopub.status.busy": "2021-05-29T13:17:20.760226Z",
          "iopub.execute_input": "2021-05-29T13:17:20.760578Z",
          "iopub.status.idle": "2021-05-29T13:17:21.860765Z",
          "shell.execute_reply.started": "2021-05-29T13:17:20.760549Z",
          "shell.execute_reply": "2021-05-29T13:17:21.859744Z"
        },
        "trusted": true,
        "colab": {
          "base_uri": "https://localhost:8080/"
        },
        "outputId": "ffbf3755-5dc9-4421-d054-3af78655db15"
      },
      "source": [
        "# classifier that computes the class of a specific embedding for prediction purposes\n",
        "classifier_input = Input(shape=(2,))\n",
        "classifier_output = Dense(2, activation='softmax')(classifier_input)\n",
        "classifier_model = Model(classifier_input, classifier_output)\n",
        "\n",
        "# onehot encoding vectors to 2 classes\n",
        "Y_train_onehot = np_utils.to_categorical(y_train_class, 2)\n",
        "Y_test_onehot = np_utils.to_categorical(y_test_class, 2)\n",
        "\n",
        "classifier_model.compile(optimizer='adam',loss='categorical_crossentropy',metrics=['accuracy'])\n",
        "classifier_model.fit(X_train_eval,Y_train_onehot, validation_data=(X_test_eval, Y_test_onehot),epochs=5)"
      ],
      "execution_count": 151,
      "outputs": [
        {
          "output_type": "stream",
          "text": [
            "Epoch 1/5\n",
            "40/40 [==============================] - 1s 8ms/step - loss: 0.7306 - accuracy: 0.1710 - val_loss: 0.7107 - val_accuracy: 0.2925\n",
            "Epoch 2/5\n",
            "40/40 [==============================] - 0s 2ms/step - loss: 0.7109 - accuracy: 0.2502 - val_loss: 0.6958 - val_accuracy: 0.4550\n",
            "Epoch 3/5\n",
            "40/40 [==============================] - 0s 2ms/step - loss: 0.6918 - accuracy: 0.5050 - val_loss: 0.6819 - val_accuracy: 0.6325\n",
            "Epoch 4/5\n",
            "40/40 [==============================] - 0s 2ms/step - loss: 0.6732 - accuracy: 0.7175 - val_loss: 0.6686 - val_accuracy: 0.7050\n",
            "Epoch 5/5\n",
            "40/40 [==============================] - 0s 2ms/step - loss: 0.6538 - accuracy: 0.8218 - val_loss: 0.6557 - val_accuracy: 0.7550\n"
          ],
          "name": "stdout"
        },
        {
          "output_type": "execute_result",
          "data": {
            "text/plain": [
              "<keras.callbacks.History at 0x7fe7738ea4d0>"
            ]
          },
          "metadata": {
            "tags": []
          },
          "execution_count": 151
        }
      ]
    },
    {
      "cell_type": "markdown",
      "metadata": {
        "id": "9D9GRWS5JfCF"
      },
      "source": [
        "## Prediction"
      ]
    },
    {
      "cell_type": "code",
      "metadata": {
        "id": "azpHHzq4HP48",
        "execution": {
          "iopub.status.busy": "2021-05-29T13:17:32.182023Z",
          "iopub.execute_input": "2021-05-29T13:17:32.182439Z",
          "iopub.status.idle": "2021-05-29T13:17:32.246126Z",
          "shell.execute_reply.started": "2021-05-29T13:17:32.182397Z",
          "shell.execute_reply": "2021-05-29T13:17:32.244985Z"
        },
        "trusted": true,
        "colab": {
          "base_uri": "https://localhost:8080/"
        },
        "outputId": "156058c3-f91e-4fd0-e322-64e2a38f07bf"
      },
      "source": [
        "input = X_test_eval[:10]\n",
        "prediction = classifier_model.predict(input)\n",
        "print(prediction)"
      ],
      "execution_count": 152,
      "outputs": [
        {
          "output_type": "stream",
          "text": [
            "[[0.45258078 0.54741925]\n",
            " [0.50519997 0.49480003]\n",
            " [0.45037118 0.54962885]\n",
            " [0.49157134 0.50842863]\n",
            " [0.4927356  0.5072644 ]\n",
            " [0.5179091  0.48209092]\n",
            " [0.5387117  0.4612883 ]\n",
            " [0.50506467 0.49493533]\n",
            " [0.4659017  0.5340983 ]\n",
            " [0.45764214 0.54235786]]\n"
          ],
          "name": "stdout"
        }
      ]
    },
    {
      "cell_type": "code",
      "metadata": {
        "id": "6xuTtZ4eOYay"
      },
      "source": [
        ""
      ],
      "execution_count": 152,
      "outputs": []
    }
  ]
}